{
 "cells": [
  {
   "cell_type": "code",
   "execution_count": 4,
   "id": "b66d6a48",
   "metadata": {},
   "outputs": [],
   "source": [
    "#importing the required libraries\n",
    "import pandas as pd\n",
    "import numpy as np\n",
    "import seaborn as sns\n",
    "import matplotlib.pyplot as plt \n",
    "import scipy.stats as scs\n",
    "import random\n",
    "import math\n",
    "import random"
   ]
  },
  {
   "cell_type": "code",
   "execution_count": 5,
   "id": "7fd050fc",
   "metadata": {},
   "outputs": [],
   "source": [
    "import warnings\n",
    "warnings.filterwarnings('ignore')"
   ]
  },
  {
   "cell_type": "code",
   "execution_count": 3,
   "id": "7a5aae6a",
   "metadata": {},
   "outputs": [],
   "source": [
    "df = pd.read_csv('../data/AdSmartABdata.csv')"
   ]
  },
  {
   "cell_type": "code",
   "execution_count": 9,
   "id": "f6f24acf",
   "metadata": {},
   "outputs": [],
   "source": [
    "def transform_data(df):\n",
    "  '''\n",
    "  segment data into exposed and control groups\n",
    "  consider that SmartAd runs the experment hourly, group data into hours. \n",
    "      Hint: create new column to hold date+hour and use df.column.map(lambda x:  pd.Timestamp(x,tz=None).strftime('%Y-%m-%d:%H'))\n",
    "  create two dataframes with bernouli series 1 for posetive(yes) and 0 for negative(no)\n",
    "    Hint: Given engagement(sum of yes and no until current observation as an array) and success (yes countas an array), the method generates random binomial distribution\n",
    "        #Example\n",
    "           engagement = np.array([5, 3, 3])\n",
    "           yes = np.array([2, 0, 3])       \n",
    "         Output is \"[1] 1 0 1 0 0 0 0 0 1 1 1\", showing a binary array of 5+3+3 values\n",
    "         of which 2 of the first 5 are ones, 0 of the next 3 are ones, and all 3 of\n",
    "         the last 3 are ones where position the ones is randomly distributed within each group.\n",
    "  '''\n",
    "  \n",
    "  # Filter out users that were not interacting\n",
    "  relevant_rows = df.query('yes == 1 | no == 1')\n",
    "  \n",
    "  # Get exposed and control groups \n",
    "  exposed = relevant_rows[relevant_rows['experiment'] == 'exposed']\n",
    "  control = relevant_rows[relevant_rows['experiment'] == 'control']\n",
    "\n",
    "  # Append hour to date for exposed group\n",
    "  exposed['hour'] = exposed['hour'].astype('str')\n",
    "  exposed['date_hour'] = pd.to_datetime( exposed['date'] + \" \" + exposed['hour'] + \":00\" + \":00\")\n",
    "  exposed['date_hour'] = exposed['date_hour'].map( lambda x:  pd.Timestamp(x, tz=None).strftime('%Y-%m-%d:%H'))\n",
    "\n",
    "  # Append hour to date for control group\n",
    "  control['hour'] = control['hour'].astype('str')\n",
    "  control['date_hour'] = pd.to_datetime(control['date'] + \" \" + control['hour'] + \":00\" + \":00\")\n",
    "  control['date_hour'] = control['date_hour'].map(lambda x:  pd.Timestamp(x, tz=None).strftime('%Y-%m-%d:%H'))\n",
    "\n",
    "\n",
    "  #create two dataframes with bernouli series 1 for posetive(yes) and 0 for negative(no)\n",
    "  #   exposed_bernouli = exposed.groupby(['date_hour'])['yes'].apply(lambda x: np.random.binomial(x, 0.5))\n",
    "  #   control_bernouli = control.groupby(['date_hour'])['yes'].apply(lambda x: np.random.binomial(x, 0.5))  \n",
    "\n",
    "  \n",
    "  #   exposed['engagement_yes'] = exposed.yes.map(lambda x: np.random.binomial(x, 0.5))\n",
    "  #   control['engagement_no'] = exposed.no.map(lambda x: np.random.binomial(x, 0.5))\n",
    "    \n",
    "  \n",
    "  exposed['engagement'] = exposed['yes'] + exposed['no']\n",
    "  control['engagement'] = control['yes'] + control['no']\n",
    "\n",
    "  exposed['success'] = exposed['yes'] \n",
    "  control['success'] = control['yes'] \n",
    "\n",
    "  expo_p = sum(exposed['success']) / sum(exposed['engagement'])\n",
    "  cont_p = sum(control['success']) / sum(control['engagement'])\n",
    "\n",
    "  exposed_engagement = exposed['engagement'].to_numpy()\n",
    "  control_engagement = control['engagement'].to_numpy()\n",
    "\n",
    "  exposed = np.random.choice([0, 1], size=((np.sum(exposed_engagement)),), p=[expo_p, 1-expo_p])\n",
    "  control = np.random.choice([0, 1], size=((np.sum(control_engagement)),), p=[cont_p , 1-cont_p ])\n",
    "    \n",
    "  return exposed, control"
   ]
  },
  {
   "cell_type": "code",
   "execution_count": 10,
   "id": "dc3a1f62",
   "metadata": {},
   "outputs": [
    {
     "name": "stdout",
     "output_type": "stream",
     "text": [
      "657 586\n"
     ]
    }
   ],
   "source": [
    "control, exposed = transform_data(df)\n",
    "print(len(control), len(exposed))"
   ]
  },
  {
   "cell_type": "code",
   "execution_count": 11,
   "id": "42f15378",
   "metadata": {},
   "outputs": [
    {
     "name": "stdout",
     "output_type": "stream",
     "text": [
      "Numerical Columns: ['hour', 'platform_os', 'yes', 'no']\n",
      "Categorical Columns: ['auction_id', 'experiment', 'date', 'device_make', 'browser']\n"
     ]
    }
   ],
   "source": [
    "#checking numerical and categorical data\n",
    "numerical_column = df.select_dtypes(exclude=\"object\").columns.tolist()\n",
    "categorical_column = df.select_dtypes(include=\"object\").columns.tolist()\n",
    "print(\"Numerical Columns:\", numerical_column)\n",
    "print(\"Categorical Columns:\", categorical_column)"
   ]
  },
  {
   "cell_type": "code",
   "execution_count": 12,
   "id": "ea9cd06f",
   "metadata": {},
   "outputs": [],
   "source": [
    "user_group = df.groupby(['experiment'])\n",
    "control = user_group.get_group('control')\n",
    "exposed = user_group.get_group('exposed')"
   ]
  },
  {
   "cell_type": "code",
   "execution_count": 13,
   "id": "04a1b3e1",
   "metadata": {},
   "outputs": [],
   "source": [
    "class ConditionalSPRT:\n",
    "     \n",
    "    def __init__(self, x, y, odd_ratio, alpha=0.05, beta=0.10, stop=None):\n",
    "        self.x = x\n",
    "        self.y = y\n",
    "        self.odd_ratio = odd_ratio\n",
    "        self.alpha = alpha\n",
    "        self.beta = beta\n",
    "        self.stop = stop\n",
    "   \n",
    "    def run(self):\n",
    "        res = conditionalSPRT(self.x, self.y, self.odd_ratio,\n",
    "                              self.alpha, self.beta,\n",
    "                              self.stop)\n",
    "        return res\n",
    "    def resJson(self, res):\n",
    "        outcome,n, k,l,u,truncated,truncate_decision,x1,r,stats,limits = res\n",
    "        jsonRes = {\n",
    "            \"name\": \"Sequential AB testing\",\n",
    "            \"outcome\": outcome,\n",
    "            \"decsionMadeIndex\": k,\n",
    "            \"numberOfObservation\": len(n),\n",
    "            \"truncated\": truncated,\n",
    "            \"truncateDecision\": truncate_decision,        \n",
    "      \n",
    "        }\n",
    "        return jsonRes\n",
    "    \n",
    "    def plotExperiment(self, res):\n",
    "        outcome,n, k,l,u,truncated,truncate_decision,x1,r,stats,limits = res\n",
    "        lower = limits[:, 0]\n",
    "        upper = limits[:,1]\n",
    "\n",
    "        fig, ax = plt.subplots(figsize=(12,7))\n",
    "\n",
    "        ax.plot(n, x1, label='Cumlative value of yes+no')\n",
    "\n",
    "        ax.plot(n, lower, label='Lower Bound', linestyle='--')\n",
    "        ax.plot(n, upper, label='Upper Bound', linestyle='--')\n",
    "\n",
    "        plt.legend()\n",
    "\n",
    "\n",
    "        plt.show()"
   ]
  },
  {
   "cell_type": "code",
   "execution_count": null,
   "id": "86a7ee81",
   "metadata": {},
   "outputs": [],
   "source": []
  }
 ],
 "metadata": {
  "kernelspec": {
   "display_name": "Python 3 (ipykernel)",
   "language": "python",
   "name": "python3"
  },
  "language_info": {
   "codemirror_mode": {
    "name": "ipython",
    "version": 3
   },
   "file_extension": ".py",
   "mimetype": "text/x-python",
   "name": "python",
   "nbconvert_exporter": "python",
   "pygments_lexer": "ipython3",
   "version": "3.9.12"
  }
 },
 "nbformat": 4,
 "nbformat_minor": 5
}

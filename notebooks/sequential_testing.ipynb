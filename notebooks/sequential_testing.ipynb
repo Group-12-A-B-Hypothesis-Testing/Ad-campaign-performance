{
 "cells": [
  {
   "cell_type": "code",
   "execution_count": 4,
   "id": "279497cf",
   "metadata": {},
   "outputs": [],
   "source": [
    "#importing the required libraries\n",
    "import pandas as pd\n",
    "import numpy as np\n",
    "import seaborn as sns\n",
    "import matplotlib.pyplot as plt \n",
    "import scipy.stats as scs\n",
    "import random\n",
    "import math\n",
    "import random"
   ]
  },
  {
   "cell_type": "code",
   "execution_count": 5,
   "id": "08d38df7",
   "metadata": {},
   "outputs": [],
   "source": [
    "import warnings\n",
    "warnings.filterwarnings('ignore')"
   ]
  },
  {
   "cell_type": "code",
   "execution_count": 3,
   "id": "85c6b356",
   "metadata": {},
   "outputs": [],
   "source": [
    "df = pd.read_csv('../data/AdSmartABdata.csv')"
   ]
  },
  {
   "cell_type": "code",
   "execution_count": 9,
   "id": "6486776c",
   "metadata": {},
   "outputs": [],
   "source": [
    "def transform_data(df):\n",
    "  '''\n",
    "  segment data into exposed and control groups\n",
    "  consider that SmartAd runs the experment hourly, group data into hours. \n",
    "      Hint: create new column to hold date+hour and use df.column.map(lambda x:  pd.Timestamp(x,tz=None).strftime('%Y-%m-%d:%H'))\n",
    "  create two dataframes with bernouli series 1 for posetive(yes) and 0 for negative(no)\n",
    "    Hint: Given engagement(sum of yes and no until current observation as an array) and success (yes countas an array), the method generates random binomial distribution\n",
    "        #Example\n",
    "           engagement = np.array([5, 3, 3])\n",
    "           yes = np.array([2, 0, 3])       \n",
    "         Output is \"[1] 1 0 1 0 0 0 0 0 1 1 1\", showing a binary array of 5+3+3 values\n",
    "         of which 2 of the first 5 are ones, 0 of the next 3 are ones, and all 3 of\n",
    "         the last 3 are ones where position the ones is randomly distributed within each group.\n",
    "  '''\n",
    "  \n",
    "  # Filter out users that were not interacting\n",
    "  relevant_rows = df.query('yes == 1 | no == 1')\n",
    "  \n",
    "  # Get exposed and control groups \n",
    "  exposed = relevant_rows[relevant_rows['experiment'] == 'exposed']\n",
    "  control = relevant_rows[relevant_rows['experiment'] == 'control']\n",
    "\n",
    "  # Append hour to date for exposed group\n",
    "  exposed['hour'] = exposed['hour'].astype('str')\n",
    "  exposed['date_hour'] = pd.to_datetime( exposed['date'] + \" \" + exposed['hour'] + \":00\" + \":00\")\n",
    "  exposed['date_hour'] = exposed['date_hour'].map( lambda x:  pd.Timestamp(x, tz=None).strftime('%Y-%m-%d:%H'))\n",
    "\n",
    "  # Append hour to date for control group\n",
    "  control['hour'] = control['hour'].astype('str')\n",
    "  control['date_hour'] = pd.to_datetime(control['date'] + \" \" + control['hour'] + \":00\" + \":00\")\n",
    "  control['date_hour'] = control['date_hour'].map(lambda x:  pd.Timestamp(x, tz=None).strftime('%Y-%m-%d:%H'))\n",
    "\n",
    "\n",
    "  #create two dataframes with bernouli series 1 for posetive(yes) and 0 for negative(no)\n",
    "  #   exposed_bernouli = exposed.groupby(['date_hour'])['yes'].apply(lambda x: np.random.binomial(x, 0.5))\n",
    "  #   control_bernouli = control.groupby(['date_hour'])['yes'].apply(lambda x: np.random.binomial(x, 0.5))  \n",
    "\n",
    "  \n",
    "  #   exposed['engagement_yes'] = exposed.yes.map(lambda x: np.random.binomial(x, 0.5))\n",
    "  #   control['engagement_no'] = exposed.no.map(lambda x: np.random.binomial(x, 0.5))\n",
    "    \n",
    "  \n",
    "  exposed['engagement'] = exposed['yes'] + exposed['no']\n",
    "  control['engagement'] = control['yes'] + control['no']\n",
    "\n",
    "  exposed['success'] = exposed['yes'] \n",
    "  control['success'] = control['yes'] \n",
    "\n",
    "  expo_p = sum(exposed['success']) / sum(exposed['engagement'])\n",
    "  cont_p = sum(control['success']) / sum(control['engagement'])\n",
    "\n",
    "  exposed_engagement = exposed['engagement'].to_numpy()\n",
    "  control_engagement = control['engagement'].to_numpy()\n",
    "\n",
    "  exposed = np.random.choice([0, 1], size=((np.sum(exposed_engagement)),), p=[expo_p, 1-expo_p])\n",
    "  control = np.random.choice([0, 1], size=((np.sum(control_engagement)),), p=[cont_p , 1-cont_p ])\n",
    "    \n",
    "  return exposed, control"
   ]
  },
  {
   "cell_type": "code",
   "execution_count": 10,
   "id": "9ef14b50",
   "metadata": {},
   "outputs": [
    {
     "name": "stdout",
     "output_type": "stream",
     "text": [
      "657 586\n"
     ]
    }
   ],
   "source": [
    "control, exposed = transform_data(df)\n",
    "print(len(control), len(exposed))"
   ]
  },
  {
   "cell_type": "code",
   "execution_count": null,
   "id": "941aeb89",
   "metadata": {},
   "outputs": [],
   "source": []
  }
 ],
 "metadata": {
  "kernelspec": {
   "display_name": "Python 3 (ipykernel)",
   "language": "python",
   "name": "python3"
  },
  "language_info": {
   "codemirror_mode": {
    "name": "ipython",
    "version": 3
   },
   "file_extension": ".py",
   "mimetype": "text/x-python",
   "name": "python",
   "nbconvert_exporter": "python",
   "pygments_lexer": "ipython3",
   "version": "3.9.12"
  }
 },
 "nbformat": 4,
 "nbformat_minor": 5
}
